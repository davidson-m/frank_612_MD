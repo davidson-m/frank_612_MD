{
 "cells": [
  {
   "cell_type": "code",
   "execution_count": 22,
   "id": "092d0abb",
   "metadata": {},
   "outputs": [],
   "source": [
    "#Bring in Scientists Dataset\n",
    "\n",
    "import pandas as pd\n",
    "\n",
    "df = pd.read_csv('https://raw.githubusercontent.com/chendaniely/pandas_for_everyone/master/data/scientists.csv')"
   ]
  },
  {
   "cell_type": "code",
   "execution_count": 28,
   "id": "be39e2bb",
   "metadata": {},
   "outputs": [
    {
     "name": "stdout",
     "output_type": "stream",
     "text": [
      "<class 'pandas.core.frame.DataFrame'>\n",
      "RangeIndex: 8 entries, 0 to 7\n",
      "Data columns (total 6 columns):\n",
      " #   Column      Non-Null Count  Dtype         \n",
      "---  ------      --------------  -----         \n",
      " 0   Name        8 non-null      object        \n",
      " 1   Born        8 non-null      object        \n",
      " 2   Died        8 non-null      object        \n",
      " 3   Age         8 non-null      int64         \n",
      " 4   Occupation  8 non-null      object        \n",
      " 5   Died_2      8 non-null      datetime64[ns]\n",
      "dtypes: datetime64[ns](1), int64(1), object(4)\n",
      "memory usage: 512.0+ bytes\n",
      "None\n"
     ]
    }
   ],
   "source": [
    "#Create New Column with Died in Datetime Format\n",
    "\n",
    "df['Died_2'] = pd.to_datetime(df['Died'])\n",
    "\n",
    "#Confirm that Died Dtype is object, Died_2 is datetime64\n",
    "print(df.info())"
   ]
  },
  {
   "cell_type": "code",
   "execution_count": 42,
   "id": "a4688b85",
   "metadata": {},
   "outputs": [
    {
     "name": "stdout",
     "output_type": "stream",
     "text": [
      "1964-04-14 00:00:00\n"
     ]
    }
   ],
   "source": [
    "#Determine Maximum Date\n",
    "died = df['Died_2']\n",
    "max_date = died.max()\n",
    "print(max_date)"
   ]
  },
  {
   "cell_type": "code",
   "execution_count": 39,
   "id": "e25426a6",
   "metadata": {},
   "outputs": [
    {
     "name": "stdout",
     "output_type": "stream",
     "text": [
      "0    -2190 days\n",
      "1    -9677 days\n",
      "2   -19603 days\n",
      "3   -10877 days\n",
      "4        0 days\n",
      "5   -38653 days\n",
      "6    -3599 days\n",
      "7   -39862 days\n",
      "Name: Died_2, dtype: timedelta64[ns]\n"
     ]
    }
   ],
   "source": [
    "print(died - max_date)"
   ]
  },
  {
   "cell_type": "code",
   "execution_count": 43,
   "id": "c9338d90",
   "metadata": {},
   "outputs": [],
   "source": [
    "#Save New CSV File\n",
    "\n",
    "df.to_csv('new_csv_assignment3.csv', index=False)"
   ]
  },
  {
   "cell_type": "code",
   "execution_count": null,
   "id": "3324d13e",
   "metadata": {},
   "outputs": [],
   "source": []
  }
 ],
 "metadata": {
  "kernelspec": {
   "display_name": "Python 3",
   "language": "python",
   "name": "python3"
  },
  "language_info": {
   "codemirror_mode": {
    "name": "ipython",
    "version": 3
   },
   "file_extension": ".py",
   "mimetype": "text/x-python",
   "name": "python",
   "nbconvert_exporter": "python",
   "pygments_lexer": "ipython3",
   "version": "3.8.8"
  }
 },
 "nbformat": 4,
 "nbformat_minor": 5
}
