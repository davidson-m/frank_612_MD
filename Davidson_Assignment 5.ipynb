{
 "cells": [
  {
   "cell_type": "code",
   "execution_count": 9,
   "id": "528baae5",
   "metadata": {},
   "outputs": [],
   "source": [
    "# Concatenate data for manager and player awards (stack rows)\n",
    "\n",
    "import pandas as pd\n",
    "\n",
    "df1 = pd.read_csv('https://raw.githubusercontent.com/frankData612/data_612/master/baseballdatabank-master/core/AwardsManagers.csv')\n",
    "df2 = pd.read_csv('https://raw.githubusercontent.com/frankData612/data_612/master/baseballdatabank-master/core/AwardsPlayers.csv')\n",
    "\n",
    "awards_concat = pd.concat([df1, df2])\n",
    "\n",
    "# Save concatenated data to new .CSV file\n",
    "\n",
    "awards_concat.to_csv('new_csv_assignment5.csv', index=False)"
   ]
  },
  {
   "cell_type": "code",
   "execution_count": 15,
   "id": "bee18a4c",
   "metadata": {},
   "outputs": [
    {
     "name": "stdout",
     "output_type": "stream",
     "text": [
      "8011\n"
     ]
    }
   ],
   "source": [
    "# Count number of missing values\n",
    "\n",
    "import numpy as np\n",
    "\n",
    "print(np.count_nonzero(awards_concat.isnull()))"
   ]
  },
  {
   "cell_type": "code",
   "execution_count": 17,
   "id": "65864468",
   "metadata": {},
   "outputs": [
    {
     "name": "stdout",
     "output_type": "stream",
     "text": [
      "(16, 6)\n"
     ]
    }
   ],
   "source": [
    "# Drop msising values\n",
    "\n",
    "awards_drop = awards_concat.dropna()\n",
    "\n",
    "print(awards_drop.shape)"
   ]
  },
  {
   "cell_type": "code",
   "execution_count": 19,
   "id": "547c27a7",
   "metadata": {},
   "outputs": [],
   "source": [
    "# Save new data to new .CSV file\n",
    "\n",
    "awards_concat.to_csv('new_csv_assignment5.csv', index=False)"
   ]
  }
 ],
 "metadata": {
  "kernelspec": {
   "display_name": "Python 3",
   "language": "python",
   "name": "python3"
  },
  "language_info": {
   "codemirror_mode": {
    "name": "ipython",
    "version": 3
   },
   "file_extension": ".py",
   "mimetype": "text/x-python",
   "name": "python",
   "nbconvert_exporter": "python",
   "pygments_lexer": "ipython3",
   "version": "3.8.8"
  }
 },
 "nbformat": 4,
 "nbformat_minor": 5
}
