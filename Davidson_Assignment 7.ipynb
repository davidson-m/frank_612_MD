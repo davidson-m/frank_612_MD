{
 "cells": [
  {
   "cell_type": "code",
   "execution_count": 1,
   "id": "a190d5bb",
   "metadata": {},
   "outputs": [
    {
     "name": "stdout",
     "output_type": "stream",
     "text": [
      "<class 'pandas.core.frame.DataFrame'>\n",
      "RangeIndex: 3536 entries, 0 to 3535\n",
      "Data columns (total 10 columns):\n",
      " #   Column    Non-Null Count  Dtype  \n",
      "---  ------    --------------  -----  \n",
      " 0   playerID  3536 non-null   object \n",
      " 1   yearID    3536 non-null   int64  \n",
      " 2   teamID    3536 non-null   object \n",
      " 3   lgID      3469 non-null   object \n",
      " 4   inseason  3536 non-null   int64  \n",
      " 5   G         3536 non-null   int64  \n",
      " 6   W         3536 non-null   int64  \n",
      " 7   L         3536 non-null   int64  \n",
      " 8   rank      3535 non-null   float64\n",
      " 9   plyrMgr   3536 non-null   object \n",
      "dtypes: float64(1), int64(5), object(4)\n",
      "memory usage: 276.4+ KB\n",
      "None\n"
     ]
    }
   ],
   "source": [
    "#Load dataset (baseball managers) - previously used in Assignment 2\n",
    "\n",
    "import pandas as pd\n",
    "\n",
    "df1 = pd.read_csv('https://raw.githubusercontent.com/frankData612/data_612/master/baseballdatabank-master/core/Managers.csv')\n",
    "\n",
    "print(df1.info())"
   ]
  },
  {
   "cell_type": "code",
   "execution_count": 2,
   "id": "5f15b804",
   "metadata": {},
   "outputs": [
    {
     "name": "stdout",
     "output_type": "stream",
     "text": [
      "<class 'pandas.core.frame.DataFrame'>\n",
      "RangeIndex: 3536 entries, 0 to 3535\n",
      "Data columns (total 10 columns):\n",
      " #   Column    Non-Null Count  Dtype   \n",
      "---  ------    --------------  -----   \n",
      " 0   playerID  3536 non-null   object  \n",
      " 1   yearID    3536 non-null   int64   \n",
      " 2   teamID    3536 non-null   object  \n",
      " 3   lgID      3469 non-null   object  \n",
      " 4   inseason  3536 non-null   int64   \n",
      " 5   G         3536 non-null   int64   \n",
      " 6   W         3536 non-null   int64   \n",
      " 7   L         3536 non-null   int64   \n",
      " 8   rank      3535 non-null   float64 \n",
      " 9   plyrMgr   3536 non-null   category\n",
      "dtypes: category(1), float64(1), int64(5), object(3)\n",
      "memory usage: 252.3+ KB\n",
      "None\n"
     ]
    }
   ],
   "source": [
    "# Change plyrMgr column to category (since it is already Y/N)\n",
    "\n",
    "df1['plyrMgr'] = df1['plyrMgr'].astype('category')\n",
    "\n",
    "# Check that plyrMgr is now Dtype category\n",
    "\n",
    "print(df1.info())"
   ]
  },
  {
   "cell_type": "code",
   "execution_count": 3,
   "id": "c9f7aa7e",
   "metadata": {},
   "outputs": [
    {
     "name": "stdout",
     "output_type": "stream",
     "text": [
      "<class 'pandas.core.frame.DataFrame'>\n",
      "RangeIndex: 3536 entries, 0 to 3535\n",
      "Data columns (total 10 columns):\n",
      " #   Column    Non-Null Count  Dtype   \n",
      "---  ------    --------------  -----   \n",
      " 0   playerID  3536 non-null   object  \n",
      " 1   yearID    3536 non-null   object  \n",
      " 2   teamID    3536 non-null   object  \n",
      " 3   lgID      3469 non-null   object  \n",
      " 4   inseason  3536 non-null   int64   \n",
      " 5   G         3536 non-null   int64   \n",
      " 6   W         3536 non-null   int64   \n",
      " 7   L         3536 non-null   int64   \n",
      " 8   rank      3535 non-null   float64 \n",
      " 9   plyrMgr   3536 non-null   category\n",
      "dtypes: category(1), float64(1), int64(4), object(4)\n",
      "memory usage: 252.3+ KB\n",
      "None\n"
     ]
    }
   ],
   "source": [
    "# Change yearID column to string\n",
    "\n",
    "df1['yearID'] = df1['yearID'].astype(str)\n",
    "\n",
    "# Check that yearID is now Dtype object\n",
    "\n",
    "print(df1.info())"
   ]
  },
  {
   "cell_type": "code",
   "execution_count": null,
   "id": "fdb70fc6",
   "metadata": {},
   "outputs": [],
   "source": []
  }
 ],
 "metadata": {
  "kernelspec": {
   "display_name": "Python 3",
   "language": "python",
   "name": "python3"
  },
  "language_info": {
   "codemirror_mode": {
    "name": "ipython",
    "version": 3
   },
   "file_extension": ".py",
   "mimetype": "text/x-python",
   "name": "python",
   "nbconvert_exporter": "python",
   "pygments_lexer": "ipython3",
   "version": "3.8.8"
  }
 },
 "nbformat": 4,
 "nbformat_minor": 5
}
