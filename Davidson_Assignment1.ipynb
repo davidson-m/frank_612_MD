{
 "cells": [
  {
   "cell_type": "code",
   "execution_count": null,
   "id": "7f41c638",
   "metadata": {
    "scrolled": true
   },
   "outputs": [],
   "source": [
    "#Using For loop\n",
    "\n",
    "def total(num1, num2):\n",
    "    sumx_y = 0\n",
    "    if num1 > num2:\n",
    "        return sumx_y\n",
    "    else:\n",
    "        for i in range(num1, num2 + 1):\n",
    "            sumx_y += i\n",
    "    return(sumx_y)\n",
    "\n",
    "x = int(input(\"Enter the first number: \"))\n",
    "y = int(input(\"Enter the second number: \"))\n",
    "\n",
    "print(\"The total of the numbers in between is\", total(x,y))"
   ]
  },
  {
   "cell_type": "code",
   "execution_count": null,
   "id": "8d667228",
   "metadata": {},
   "outputs": [],
   "source": [
    "#Using While loop\n",
    "\n",
    "def total_while(num1, num2):\n",
    "    if num1 > num2:\n",
    "        sumx_y = 0\n",
    "    else:\n",
    "        i = num1\n",
    "        sumx_y = num1\n",
    "        while i < num2:\n",
    "            i += 1\n",
    "            sumx_y += i\n",
    "    return(sumx_y)\n",
    "\n",
    "x = int(input(\"Enter the first number: \"))\n",
    "y = int(input(\"Enter the second number: \"))\n",
    "\n",
    "print(\"The total of the numbers in between is\", total_while(x,y))"
   ]
  }
 ],
 "metadata": {
  "kernelspec": {
   "display_name": "Python 3",
   "language": "python",
   "name": "python3"
  },
  "language_info": {
   "codemirror_mode": {
    "name": "ipython",
    "version": 3
   },
   "file_extension": ".py",
   "mimetype": "text/x-python",
   "name": "python",
   "nbconvert_exporter": "python",
   "pygments_lexer": "ipython3",
   "version": "3.8.8"
  }
 },
 "nbformat": 4,
 "nbformat_minor": 5
}
